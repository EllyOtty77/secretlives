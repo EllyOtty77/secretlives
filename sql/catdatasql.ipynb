{
    "metadata": {
        "kernelspec": {
            "name": "SQL",
            "display_name": "SQL",
            "language": "sql"
        },
        "language_info": {
            "name": "sql",
            "version": ""
        }
    },
    "nbformat_minor": 2,
    "nbformat": 4,
    "cells": [
        {
            "cell_type": "markdown",
            "source": [
                "## **Create database**"
            ],
            "metadata": {
                "language": "sql",
                "azdata_cell_guid": "0a18a377-9fe1-495c-a9b5-1f5552874e8e"
            },
            "attachments": {}
        },
        {
            "cell_type": "code",
            "source": [
                "    CREATE DATABASE Minute;\r\n",
                ""
            ],
            "metadata": {
                "azdata_cell_guid": "e02b5b02-0ed2-46a0-95ae-7f226a3d13bd",
                "language": "sql"
            },
            "outputs": [
                {
                    "output_type": "display_data",
                    "data": {
                        "text/html": "Commands completed successfully."
                    },
                    "metadata": {}
                },
                {
                    "output_type": "display_data",
                    "data": {
                        "text/html": "Total execution time: 00:00:06.704"
                    },
                    "metadata": {}
                }
            ],
            "execution_count": 1
        },
        {
            "cell_type": "markdown",
            "source": [
                "## **Cat breeds table**"
            ],
            "metadata": {
                "language": "sql",
                "azdata_cell_guid": "ca217da6-48b5-4fde-b2e0-164979ddd799"
            },
            "attachments": {}
        },
        {
            "cell_type": "code",
            "source": [
                "USE Minute;\r\n",
                "GO\r\n",
                "\r\n",
                "-- Create a table with an auto-incrementing primary key and specified columns\r\n",
                "CREATE TABLE CatBreeds\r\n",
                "(\r\n",
                "    ID INT IDENTITY(1,1) PRIMARY KEY,\r\n",
                "    Breed NVARCHAR(255),  \r\n",
                "    [Location of origin] NVARCHAR(255),  -- Enclose column name in square brackets if it contains spaces\r\n",
                "    Type NVARCHAR(255),\r\n",
                "    [Body type] NVARCHAR(255),\r\n",
                "    [Coat type and length] NVARCHAR(255),  -- Adjust the length based on your data\r\n",
                "    [Coat pattern] NVARCHAR(255)  -- Adjust the length based on your data\r\n",
                ");"
            ],
            "metadata": {
                "azdata_cell_guid": "246d5f35-7c3d-43ff-8a07-f509fda6121d",
                "language": "sql"
            },
            "outputs": [
                {
                    "output_type": "display_data",
                    "data": {
                        "text/html": "Commands completed successfully."
                    },
                    "metadata": {}
                },
                {
                    "output_type": "display_data",
                    "data": {
                        "text/html": "Commands completed successfully."
                    },
                    "metadata": {}
                },
                {
                    "output_type": "display_data",
                    "data": {
                        "text/html": "Total execution time: 00:00:00.877"
                    },
                    "metadata": {}
                }
            ],
            "execution_count": 2
        },
        {
            "cell_type": "markdown",
            "source": [
                "## **Data**"
            ],
            "metadata": {
                "language": "sql",
                "azdata_cell_guid": "9d483a79-8729-4dc9-b053-7f4fe458df79"
            },
            "attachments": {}
        },
        {
            "cell_type": "code",
            "source": [
                "USE Minute;\r\n",
                "GO\r\n",
                "\r\n",
                "SELECT * FROM dbo.CatBreeds;"
            ],
            "metadata": {
                "azdata_cell_guid": "fd376f27-5860-4bdb-b040-a1371bab7d8c",
                "language": "sql"
            },
            "outputs": [
                {
                    "output_type": "display_data",
                    "data": {
                        "text/html": "Commands completed successfully."
                    },
                    "metadata": {}
                },
                {
                    "output_type": "display_data",
                    "data": {
                        "text/html": "(101 rows affected)"
                    },
                    "metadata": {}
                },
                {
                    "output_type": "display_data",
                    "data": {
                        "text/html": "Total execution time: 00:00:00.306"
                    },
                    "metadata": {}
                },
                {
                    "output_type": "execute_result",
                    "metadata": {},
                    "execution_count": 6,
                    "data": {
                        "application/vnd.dataresource+json": {
                            "schema": {
                                "fields": [
                                    {
                                        "name": "ID"
                                    },
                                    {
                                        "name": "Breed"
                                    },
                                    {
                                        "name": "Location of origin"
                                    },
                                    {
                                        "name": "Type"
                                    },
                                    {
                                        "name": "Body type"
                                    },
                                    {
                                        "name": "Coat type and length"
                                    },
                                    {
                                        "name": "Coat pattern"
                                    }
                                ]
                            },
                            "data": [
                                {
                                    "ID": "1",
                                    "Breed": "Abyssinian",
                                    "Location of origin": "Unspecified, but somewhere in Afro-Asia, likely Ethiopia",
                                    "Type": "Natural",
                                    "Body type": "Semi-foreign",
                                    "Coat type and length": "Short",
                                    "Coat pattern": "Ticked tabby"
                                },
                                {
                                    "ID": "2",
                                    "Breed": "Aegean",
                                    "Location of origin": "Greece",
                                    "Type": "Natural",
                                    "Body type": "Moderate",
                                    "Coat type and length": "Semi-long",
                                    "Coat pattern": "Multi-color"
                                },
                                {
                                    "ID": "3",
                                    "Breed": "American Bobtail",
                                    "Location of origin": "United States",
                                    "Type": "Mutation of shortened tail",
                                    "Body type": "Cobby",
                                    "Coat type and length": "Semi-long",
                                    "Coat pattern": "All"
                                },
                                {
                                    "ID": "4",
                                    "Breed": "American Curl",
                                    "Location of origin": "United States",
                                    "Type": "Mutation",
                                    "Body type": "Semi-foreign",
                                    "Coat type and length": "Semi-long",
                                    "Coat pattern": "All"
                                },
                                {
                                    "ID": "5",
                                    "Breed": "American Ringtail",
                                    "Location of origin": "United States",
                                    "Type": "Mutation",
                                    "Body type": "Foreign",
                                    "Coat type and length": "Semi-long",
                                    "Coat pattern": "All"
                                },
                                {
                                    "ID": "6",
                                    "Breed": "American Shorthair",
                                    "Location of origin": "United States",
                                    "Type": "Natural",
                                    "Body type": "Cobby",
                                    "Coat type and length": "Short",
                                    "Coat pattern": "All"
                                },
                                {
                                    "ID": "7",
                                    "Breed": "American Wirehair",
                                    "Location of origin": "United States",
                                    "Type": "Mutation",
                                    "Body type": "Normal",
                                    "Coat type and length": "Rex",
                                    "Coat pattern": "All"
                                },
                                {
                                    "ID": "8",
                                    "Breed": "Aphrodite Giant",
                                    "Location of origin": "Cyprus",
                                    "Type": "Natural",
                                    "Body type": "Lean and muscular",
                                    "Coat type and length": "All",
                                    "Coat pattern": "All"
                                },
                                {
                                    "ID": "9",
                                    "Breed": "Arabian Mau",
                                    "Location of origin": "Arabian Peninsula",
                                    "Type": "Natural",
                                    "Body type": "Moderate and muscular",
                                    "Coat type and length": "Short",
                                    "Coat pattern": "All"
                                },
                                {
                                    "ID": "10",
                                    "Breed": "Asian",
                                    "Location of origin": "United Kingdom",
                                    "Type": "Crossbreed between the Burmese and Chinchilla Persians",
                                    "Body type": "Moderate",
                                    "Coat type and length": "Short",
                                    "Coat pattern": "All without white and without siamese pointing"
                                },
                                {
                                    "ID": "11",
                                    "Breed": "Asian Semi-longhair",
                                    "Location of origin": "United Kingdom",
                                    "Type": "Crossbreed between the Burmese and Chinchilla Persians",
                                    "Body type": "Moderate",
                                    "Coat type and length": "Semi-long",
                                    "Coat pattern": "All without white and without siamese pointing"
                                },
                                {
                                    "ID": "12",
                                    "Breed": "Australian Mist",
                                    "Location of origin": "Australia",
                                    "Type": "Crossbreed between the Abyssinian, Burmese, and Australian short-haired cats[12]",
                                    "Body type": "Moderate",
                                    "Coat type and length": "Short",
                                    "Coat pattern": "Spotted or marbled"
                                },
                                {
                                    "ID": "13",
                                    "Breed": "Balinese",
                                    "Location of origin": "Developed in United States; foundation stock from Thailand",
                                    "Type": "Mutation of the Siamese",
                                    "Body type": "Semi-foreign",
                                    "Coat type and length": "Long",
                                    "Coat pattern": "Colorpoint"
                                },
                                {
                                    "ID": "14",
                                    "Breed": "Bambino",
                                    "Location of origin": "United States",
                                    "Type": "Crossbreed between the Munchkin and Sphynx[12]",
                                    "Body type": "Dwarf",
                                    "Coat type and length": "Short",
                                    "Coat pattern": "Black + white hairless"
                                },
                                {
                                    "ID": "15",
                                    "Breed": "Bengal",
                                    "Location of origin": "Developed in United States, but created in Asia",
                                    "Type": "Hybrid of the Abyssinian and Egyptian Mau × leopard cat (Prionailurus bengalensis)",
                                    "Body type": "Large",
                                    "Coat type and length": "Short",
                                    "Coat pattern": "Spotted, marbled, or rosetted"
                                },
                                {
                                    "ID": "16",
                                    "Breed": "Birman",
                                    "Location of origin": "Developed in France; foundation stock from Burma (Myanmar)",
                                    "Type": "The original Birman was crossed with the Siamese and the Persian to create the Birman of today.",
                                    "Body type": "Cobby",
                                    "Coat type and length": "Semi-long",
                                    "Coat pattern": "Mitted colorpoint"
                                },
                                {
                                    "ID": "17",
                                    "Breed": "Bombay",
                                    "Location of origin": "United States and Burma (Myanmar)",
                                    "Type": "Crossbreed between the Black American Shorthair and Sable Burmese",
                                    "Body type": "Cobby",
                                    "Coat type and length": "Short",
                                    "Coat pattern": "Solid black"
                                },
                                {
                                    "ID": "18",
                                    "Breed": "Brazilian Shorthair",
                                    "Location of origin": "Brazil",
                                    "Type": "Natural",
                                    "Body type": "Normal",
                                    "Coat type and length": "Short",
                                    "Coat pattern": "All"
                                },
                                {
                                    "ID": "19",
                                    "Breed": "British Longhair",
                                    "Location of origin": "United Kingdom (England)",
                                    "Type": "Natural",
                                    "Body type": "Cobby",
                                    "Coat type and length": "Semi-long",
                                    "Coat pattern": "All"
                                },
                                {
                                    "ID": "20",
                                    "Breed": "British Shorthair",
                                    "Location of origin": "United Kingdom (England)",
                                    "Type": "Natural",
                                    "Body type": "Cobby",
                                    "Coat type and length": "Short",
                                    "Coat pattern": "All[13]"
                                },
                                {
                                    "ID": "21",
                                    "Breed": "Burmese",
                                    "Location of origin": "Burma (Myanmar)",
                                    "Type": "Natural",
                                    "Body type": "Semi-foreign or semi-cobby",
                                    "Coat type and length": "Short",
                                    "Coat pattern": "Solid and Tortoiseshell[14]"
                                },
                                {
                                    "ID": "22",
                                    "Breed": "Burmilla",
                                    "Location of origin": "United Kingdom (England)",
                                    "Type": "Crossbreed between the Burmese and the Chinchilla Persian",
                                    "Body type": "Semi-cobby",
                                    "Coat type and length": "Short",
                                    "Coat pattern": "Solid with Shaded Silver and Silver Tipped patterns"
                                },
                                {
                                    "ID": "23",
                                    "Breed": "California Spangled",
                                    "Location of origin": "United States",
                                    "Type": "Crossbreed between the Abyssinian, American Shorthair and British Shorthair",
                                    "Body type": "Moderate",
                                    "Coat type and length": "Short",
                                    "Coat pattern": "Spotted tabby"
                                },
                                {
                                    "ID": "24",
                                    "Breed": "Chantilly-Tiffany",
                                    "Location of origin": "United States",
                                    "Type": "Natural",
                                    "Body type": "Cobby",
                                    "Coat type and length": "Long",
                                    "Coat pattern": "Solid, classic tabby, spotted tabby and ticked tabby"
                                },
                                {
                                    "ID": "25",
                                    "Breed": "Chartreux",
                                    "Location of origin": "France",
                                    "Type": "Natural",
                                    "Body type": "Muscular; cobby",
                                    "Coat type and length": "Short",
                                    "Coat pattern": "Varying shades of blue"
                                },
                                {
                                    "ID": "26",
                                    "Breed": "Chausie",
                                    "Location of origin": "United States",
                                    "Type": "Hybrid of the Abyssinian × jungle cat (Felis chaus)",
                                    "Body type": "Normal",
                                    "Coat type and length": "Short",
                                    "Coat pattern": "Solid black, black grizzled tabby and black ticked tabby"
                                },
                                {
                                    "ID": "27",
                                    "Breed": "Colorpoint Shorthair",
                                    "Location of origin": "United Kingdom (England)",
                                    "Type": "Crossbreed between the Abyssinian, Siamese and short-haired cats",
                                    "Body type": "Foreign",
                                    "Coat type and length": "Short",
                                    "Coat pattern": "Colorpoint"
                                },
                                {
                                    "ID": "28",
                                    "Breed": "Cornish Rex",
                                    "Location of origin": "Cornwall, England, United Kingdom",
                                    "Type": "Mutation",
                                    "Body type": "Foreign",
                                    "Coat type and length": "Rex",
                                    "Coat pattern": "All"
                                },
                                {
                                    "ID": "29",
                                    "Breed": "Cymric, Manx Longhair or Long-haired Manx",
                                    "Location of origin": "Isle of Man, United States, and Canada",
                                    "Type": "Mutation of the Manx (shortened tail)",
                                    "Body type": "Semi-cobby",
                                    "Coat type and length": "Long",
                                    "Coat pattern": "All"
                                },
                                {
                                    "ID": "30",
                                    "Breed": "Cyprus",
                                    "Location of origin": "Cyprus",
                                    "Type": "Natural",
                                    "Body type": "Lean and muscular",
                                    "Coat type and length": "All",
                                    "Coat pattern": "All"
                                },
                                {
                                    "ID": "31",
                                    "Breed": "Devon Rex",
                                    "Location of origin": "Buckfastleigh, Devon, England, United Kingdom",
                                    "Type": "Mutation",
                                    "Body type": "Semi-foreign",
                                    "Coat type and length": "Rex",
                                    "Coat pattern": "All"
                                },
                                {
                                    "ID": "32",
                                    "Breed": "Donskoy or Don Sphynx",
                                    "Location of origin": "Russia",
                                    "Type": "Mutation",
                                    "Body type": "Semi-foreign",
                                    "Coat type and length": "Hairless",
                                    "Coat pattern": "Solid"
                                },
                                {
                                    "ID": "33",
                                    "Breed": "Dragon Li or Chinese Li Hua",
                                    "Location of origin": "China",
                                    "Type": "Natural",
                                    "Body type": "Normal",
                                    "Coat type and length": "Short",
                                    "Coat pattern": "Ticked tabby"
                                },
                                {
                                    "ID": "34",
                                    "Breed": "Dwelf",
                                    "Location of origin": "United States",
                                    "Type": "Crossbreed between the American Curl, Munchkin and Sphynx",
                                    "Body type": "Dwarf",
                                    "Coat type and length": "Hairless",
                                    "Coat pattern": "All"
                                },
                                {
                                    "ID": "35",
                                    "Breed": "Egyptian Mau",
                                    "Location of origin": "Egypt",
                                    "Type": "Natural",
                                    "Body type": "Moderate and muscular",
                                    "Coat type and length": "Short",
                                    "Coat pattern": "Spotted tabby"
                                },
                                {
                                    "ID": "36",
                                    "Breed": "European Shorthair",
                                    "Location of origin": "Continental Europe",
                                    "Type": "Natural",
                                    "Body type": "Moderate",
                                    "Coat type and length": "Short",
                                    "Coat pattern": "All"
                                },
                                {
                                    "ID": "37",
                                    "Breed": "Exotic Shorthair",
                                    "Location of origin": "United States",
                                    "Type": "Crossbreed between the American Shorthair and Persian",
                                    "Body type": "Cobby",
                                    "Coat type and length": "Short",
                                    "Coat pattern": "All"
                                },
                                {
                                    "ID": "38",
                                    "Breed": "Foldex",
                                    "Location of origin": "Canada",
                                    "Type": "Crossbreed between the Exotic Shorthair and Scottish Fold",
                                    "Body type": "Cobby",
                                    "Coat type and length": "Short",
                                    "Coat pattern": "All"
                                },
                                {
                                    "ID": "39",
                                    "Breed": "German Rex",
                                    "Location of origin": "Germany",
                                    "Type": "Mutation",
                                    "Body type": "Semi-foreign",
                                    "Coat type and length": "Rex",
                                    "Coat pattern": "All"
                                },
                                {
                                    "ID": "40",
                                    "Breed": "Havana Brown",
                                    "Location of origin": "United Kingdom (England); foundation stock from Thailand",
                                    "Type": "Crossbreed between the Siamese and black short-haired cats",
                                    "Body type": "Semi-foreign",
                                    "Coat type and length": "Short",
                                    "Coat pattern": "Solid brown"
                                },
                                {
                                    "ID": "41",
                                    "Breed": "Highlander",
                                    "Location of origin": "United States",
                                    "Type": "Crossbreed between the Desert Lynx and Jungle Curl",
                                    "Body type": "Moderate",
                                    "Coat type and length": "Short/long",
                                    "Coat pattern": "All"
                                },
                                {
                                    "ID": "42",
                                    "Breed": "Himalayan or Colorpoint Persian",
                                    "Location of origin": "United States and United Kingdom",
                                    "Type": "Crossbreed between the Persian and Siamese",
                                    "Body type": "Cobby",
                                    "Coat type and length": "Long",
                                    "Coat pattern": "Colorpoint"
                                },
                                {
                                    "ID": "43",
                                    "Breed": "Japanese Bobtail",
                                    "Location of origin": "Japan",
                                    "Type": "Mutation of shortened tail",
                                    "Body type": "Moderate",
                                    "Coat type and length": "Short/long",
                                    "Coat pattern": "All"
                                },
                                {
                                    "ID": "44",
                                    "Breed": "Javanese or Colorpoint Longhair",
                                    "Location of origin": "Developed in United States and Canada; foundation stock from Southeast Asia",
                                    "Type": "Crossbreed between the Balinese (with some Colorpoint Shorthair), Oriental Longhair and Siamese",
                                    "Body type": "Oriental",
                                    "Coat type and length": "Long",
                                    "Coat pattern": "Colorpoint"
                                },
                                {
                                    "ID": "45",
                                    "Breed": "Kanaani",
                                    "Location of origin": "Israel",
                                    "Type": "Hybrid of short-haired cats × African wildcat (Felis lybica)",
                                    "Body type": "Semi-foreign",
                                    "Coat type and length": "Short",
                                    "Coat pattern": "Solid black, chocolate spotted tabby or cinnamon spotted tabby"
                                },
                                {
                                    "ID": "46",
                                    "Breed": "Khao Manee",
                                    "Location of origin": "Thailand",
                                    "Type": "Natural",
                                    "Body type": "Moderate",
                                    "Coat type and length": "Short",
                                    "Coat pattern": "Solid white"
                                },
                                {
                                    "ID": "47",
                                    "Breed": "Kinkalow",
                                    "Location of origin": "United States",
                                    "Type": "Crossbreed between the Munchkin and American Curl",
                                    "Body type": "Dwarf",
                                    "Coat type and length": "Short",
                                    "Coat pattern": "All"
                                },
                                {
                                    "ID": "48",
                                    "Breed": "Korat",
                                    "Location of origin": "Thailand",
                                    "Type": "Natural",
                                    "Body type": "Semi-foreign or semi-cobby and muscular",
                                    "Coat type and length": "Short",
                                    "Coat pattern": "Solid blue"
                                },
                                {
                                    "ID": "49",
                                    "Breed": "Korean Bobtail",
                                    "Location of origin": "Korea",
                                    "Type": "Natural, mutation of shortened tail",
                                    "Body type": "Moderate",
                                    "Coat type and length": "Short/long",
                                    "Coat pattern": "All"
                                },
                                {
                                    "ID": "50",
                                    "Breed": "Korn Ja or Konja",
                                    "Location of origin": "Thailand",
                                    "Type": "Natural",
                                    "Body type": "Small",
                                    "Coat type and length": "Short",
                                    "Coat pattern": "Solid black"
                                },
                                {
                                    "ID": "51",
                                    "Breed": "Kurilian Bobtail or Kuril Islands Bobtail",
                                    "Location of origin": "Kuril Islands, North Pacific",
                                    "Type": "Natural, mutation of shortened tail",
                                    "Body type": "Semi-cobby",
                                    "Coat type and length": "Short/long[12]",
                                    "Coat pattern": "All"
                                },
                                {
                                    "ID": "52",
                                    "Breed": "Lambkin",
                                    "Location of origin": "United States",
                                    "Type": "Crossbreed between the Munchkin and Selkirk Rex",
                                    "Body type": "Dwarf",
                                    "Coat type and length": "Rex",
                                    "Coat pattern": "All"
                                },
                                {
                                    "ID": "53",
                                    "Breed": "LaPerm",
                                    "Location of origin": "United States",
                                    "Type": "Mutation",
                                    "Body type": "Moderate",
                                    "Coat type and length": "Rex",
                                    "Coat pattern": "All"
                                },
                                {
                                    "ID": "54",
                                    "Breed": "Lykoi",
                                    "Location of origin": "United States",
                                    "Type": "Mutation",
                                    "Body type": "Moderate",
                                    "Coat type and length": "Sparse haired",
                                    "Coat pattern": "Black roan"
                                },
                                {
                                    "ID": "55",
                                    "Breed": "Maine Coon",
                                    "Location of origin": "United States",
                                    "Type": "Natural, crossbreed",
                                    "Body type": "Large",
                                    "Coat type and length": "Semi-long/long",
                                    "Coat pattern": "All excluding chocolate and colourpoint"
                                },
                                {
                                    "ID": "56",
                                    "Breed": "Manx",
                                    "Location of origin": "Isle of Man",
                                    "Type": "Mutation of shortened tail",
                                    "Body type": "Moderate",
                                    "Coat type and length": "Short/long",
                                    "Coat pattern": "All"
                                },
                                {
                                    "ID": "57",
                                    "Breed": "Mekong Bobtail",
                                    "Location of origin": "Developed in Russia; foundation stock ultimately from Southeast Asia",
                                    "Type": "Mutation of shortened tail",
                                    "Body type": "Moderate",
                                    "Coat type and length": "Short",
                                    "Coat pattern": "Colorpoint"
                                },
                                {
                                    "ID": "58",
                                    "Breed": "Minskin",
                                    "Location of origin": "United States",
                                    "Type": "Crossbreed between the Munchkin, Burmese, Devon Rex, and Sphynx",
                                    "Body type": "Dwarf",
                                    "Coat type and length": "Hairless",
                                    "Coat pattern": "All"
                                },
                                {
                                    "ID": "59",
                                    "Breed": "Minuet",
                                    "Location of origin": "United States",
                                    "Type": "Crossbreed between the Persian and Munchkin",
                                    "Body type": "Dwarf",
                                    "Coat type and length": "Short/long",
                                    "Coat pattern": "All"
                                },
                                {
                                    "ID": "60",
                                    "Breed": "Munchkin",
                                    "Location of origin": "United States",
                                    "Type": "Mutation of dwarf cat",
                                    "Body type": "Dwarf",
                                    "Coat type and length": "Short/long",
                                    "Coat pattern": "All"
                                },
                                {
                                    "ID": "61",
                                    "Breed": "Nebelung",
                                    "Location of origin": "United States",
                                    "Type": "Natural, mutation",
                                    "Body type": "Foreign",
                                    "Coat type and length": "Semi-long",
                                    "Coat pattern": "Solid blue"
                                },
                                {
                                    "ID": "62",
                                    "Breed": "Neva Masquerade (colorpoint Siberian)",
                                    "Location of origin": "Russia",
                                    "Type": "Crossbreed between the Siberian and a colorpoint cat[16]",
                                    "Body type": "Cobby[12]",
                                    "Coat type and length": "Long[12]",
                                    "Coat pattern": "Colorpoint"
                                },
                                {
                                    "ID": "63",
                                    "Breed": "Norwegian Forest Cat",
                                    "Location of origin": "Norway",
                                    "Type": "Natural",
                                    "Body type": "Cobby",
                                    "Coat type and length": "Long",
                                    "Coat pattern": "Chocolate or orange and white bicolor"
                                },
                                {
                                    "ID": "64",
                                    "Breed": "Ocicat",
                                    "Location of origin": "United States",
                                    "Type": "Crossbreed between the Abyssinian, American Shorthair and Siamese",
                                    "Body type": "Large",
                                    "Coat type and length": "Short",
                                    "Coat pattern": "Spotted tabby"
                                },
                                {
                                    "ID": "65",
                                    "Breed": "Ojos Azules (extinct)",
                                    "Location of origin": "United States",
                                    "Type": "Crossbreed",
                                    "Body type": "Moderate",
                                    "Coat type and length": "Short",
                                    "Coat pattern": "All"
                                },
                                {
                                    "ID": "66",
                                    "Breed": "Oriental Bicolor",
                                    "Location of origin": "Developed in United States and United Kingdom, later in Continental Europe; foundation stock ultimately from Thailand",
                                    "Type": "Color variety of the Oriental Shorthair",
                                    "Body type": "Oriental",
                                    "Coat type and length": "Short",
                                    "Coat pattern": "Bicolor"
                                },
                                {
                                    "ID": "67",
                                    "Breed": "Oriental Longhair",
                                    "Location of origin": "Developed in United States and United Kingdom; foundation stock ultimately from Thailand",
                                    "Type": "Crossbreed between the Oriental Shorthair and long-haired cats",
                                    "Body type": "Oriental",
                                    "Coat type and length": "Semi-long",
                                    "Coat pattern": "All; if colorpoint is considered to be a separate breed, it is called the Javanese"
                                },
                                {
                                    "ID": "68",
                                    "Breed": "Oriental Shorthair",
                                    "Location of origin": "Developed in United States and United Kingdom; foundation stock ultimately from Thailand",
                                    "Type": "Crossbreed between the European Shorthair and Siamese",
                                    "Body type": "Oriental",
                                    "Coat type and length": "Short",
                                    "Coat pattern": "All"
                                },
                                {
                                    "ID": "69",
                                    "Breed": "Persian (modern)",
                                    "Location of origin": "Developed in United States and Europe; foundation stock from Greater Iran",
                                    "Type": "Mutation of the Traditional Persian",
                                    "Body type": "Cobby",
                                    "Coat type and length": "Long",
                                    "Coat pattern": "All but colorpoint"
                                },
                                {
                                    "ID": "70",
                                    "Breed": "Persian (traditional)",
                                    "Location of origin": "Greater Iran",
                                    "Type": "Natural, but some crossbreeding with the Turkish Angora",
                                    "Body type": "Cobby",
                                    "Coat type and length": "Long",
                                    "Coat pattern": "All but colorpoint"
                                },
                                {
                                    "ID": "71",
                                    "Breed": "Peterbald",
                                    "Location of origin": "Russia",
                                    "Type": "Crossbreed between the Donskoy, Oriental Shorthair and Siamese; before this, it was between the Balinese and Javanese",
                                    "Body type": "Oriental",
                                    "Coat type and length": "Hairless, velour, brush, or straight coat",
                                    "Coat pattern": "All"
                                },
                                {
                                    "ID": "72",
                                    "Breed": "Pixie-bob",
                                    "Location of origin": "United States",
                                    "Type": "Mutation (falsely claimed to be a hybrid of the domestic cat and the bobcat (Lynx rufus) early on)",
                                    "Body type": "Medium",
                                    "Coat type and length": "Short",
                                    "Coat pattern": "Spotted tabby"
                                },
                                {
                                    "ID": "73",
                                    "Breed": "Ragamuffin or Liebling (obsolete)",
                                    "Location of origin": "United States",
                                    "Type": "Crossbreed between the Ragdoll with limited out-crossing to the Himalayan, the Persian, and other long-haired cats",
                                    "Body type": "Cobby",
                                    "Coat type and length": "Long",
                                    "Coat pattern": "All"
                                },
                                {
                                    "ID": "74",
                                    "Breed": "Ragdoll",
                                    "Location of origin": "United States",
                                    "Type": "Behavioral mutation in a crossbreed, presumed to be between the Persian or Turkish Angora and the Birman or Burmese",
                                    "Body type": "Cobby",
                                    "Coat type and length": "Long",
                                    "Coat pattern": "Colorpoint, mitted, or bicolor"
                                },
                                {
                                    "ID": "75",
                                    "Breed": "Raas",
                                    "Location of origin": "Raas Island, Indonesia",
                                    "Type": "Natural",
                                    "Body type": "Moderate",
                                    "Coat type and length": "Short",
                                    "Coat pattern": "Solid blue, solid cinnamon, or cinnamon colorpoint"
                                },
                                {
                                    "ID": "76",
                                    "Breed": "Russian Blue",
                                    "Location of origin": "Russia",
                                    "Type": "Natural",
                                    "Body type": "Moderate, Oriental",
                                    "Coat type and length": "Short",
                                    "Coat pattern": "Solid blue"
                                },
                                {
                                    "ID": "77",
                                    "Breed": "Russian White, Russian Black and Russian Tabby",
                                    "Location of origin": "Developed in Australia; foundation stock from Russia",
                                    "Type": "Crossbreeds between the Russian Blue and short-haired cats from Siberia, Russia",
                                    "Body type": "Moderate",
                                    "Coat type and length": "Short",
                                    "Coat pattern": "Solid white, solid black and tabby"
                                },
                                {
                                    "ID": "78",
                                    "Breed": "Sam Sawet",
                                    "Location of origin": "Thailand",
                                    "Type": "Color variety of the Thai",
                                    "Body type": "Moderate",
                                    "Coat type and length": "Short",
                                    "Coat pattern": "Solid"
                                },
                                {
                                    "ID": "79",
                                    "Breed": "Savannah",
                                    "Location of origin": "United States",
                                    "Type": "Hybrid of the domestic cat x serval (Leptailurus serval)[17]",
                                    "Body type": "Large",
                                    "Coat type and length": "Short",
                                    "Coat pattern": "Spotted"
                                },
                                {
                                    "ID": "80",
                                    "Breed": "Scottish Fold",
                                    "Location of origin": "United Kingdom (Scotland)",
                                    "Type": "Mutation of the bones and cartilage of the ears",
                                    "Body type": "Cobby",
                                    "Coat type and length": "Short/long",
                                    "Coat pattern": "All"
                                },
                                {
                                    "ID": "81",
                                    "Breed": "Selkirk Rex",
                                    "Location of origin": "United States in 1988",
                                    "Type": "Mutation/crossbreed between the American Shorthair, Persian, Himalayan, Exotic Shorthair and British Shorthair",
                                    "Body type": "Large and cobby",
                                    "Coat type and length": "Short/long (longhair, sometimes in early generations, can appear to be semi-long)",
                                    "Coat pattern": "All"
                                },
                                {
                                    "ID": "82",
                                    "Breed": "Serengeti",
                                    "Location of origin": "United States",
                                    "Type": "Crossbreed/hybrid between the Bengal and Oriental Shorthair",
                                    "Body type": "Oriental",
                                    "Coat type and length": "Short",
                                    "Coat pattern": "Spotted"
                                },
                                {
                                    "ID": "83",
                                    "Breed": "Serrade Petit",
                                    "Location of origin": "France",
                                    "Type": "Natural",
                                    "Body type": "Semi-cobby",
                                    "Coat type and length": "Short",
                                    "Coat pattern": "Solid tan, solid orange and solid white"
                                },
                                {
                                    "ID": "84",
                                    "Breed": "Siamese (modern) (for traditional, see Thai below)",
                                    "Location of origin": "Developed in United States and Europe; foundation stock from Thailand",
                                    "Type": "Mutation of the Thai",
                                    "Body type": "Oriental",
                                    "Coat type and length": "Short",
                                    "Coat pattern": "Colorpoint"
                                },
                                {
                                    "ID": "85",
                                    "Breed": "Siberian or Siberian Forest Cat (for colorpoint, see Neva Masquerade)",
                                    "Location of origin": "Russia, Ukraine",
                                    "Type": "Natural",
                                    "Body type": "Cobby[12]",
                                    "Coat type and length": "Long[12]",
                                    "Coat pattern": "All; except chocolate, lilac, cinnamon, and fawn[18]"
                                },
                                {
                                    "ID": "86",
                                    "Breed": "Singapura",
                                    "Location of origin": "Developed in United States; foundation stock from Singapore",
                                    "Type": "Possibly a mutation of a crossbreed (excluding the Munchkin), solving why they are so small",
                                    "Body type": "Small",
                                    "Coat type and length": "Short",
                                    "Coat pattern": "Ticked tabby"
                                },
                                {
                                    "ID": "87",
                                    "Breed": "Snowshoe",
                                    "Location of origin": "United States",
                                    "Type": "Crossbreed between the American Shorthair and Siamese",
                                    "Body type": "Moderate",
                                    "Coat type and length": "Short",
                                    "Coat pattern": "Mitted colorpoint"
                                },
                                {
                                    "ID": "88",
                                    "Breed": "Sokoke",
                                    "Location of origin": "Kenya",
                                    "Type": "Natural",
                                    "Body type": "Moderate",
                                    "Coat type and length": "Short",
                                    "Coat pattern": "Ticked tabby"
                                },
                                {
                                    "ID": "89",
                                    "Breed": "Somali",
                                    "Location of origin": "United States, Canada",
                                    "Type": "Mutation",
                                    "Body type": "Cobby",
                                    "Coat type and length": "Long",
                                    "Coat pattern": "Ticked tabby"
                                },
                                {
                                    "ID": "90",
                                    "Breed": "Sphynx",
                                    "Location of origin": "Canada, Europe",
                                    "Type": "Mutation",
                                    "Body type": "Oriental",
                                    "Coat type and length": "Hairless",
                                    "Coat pattern": "All"
                                },
                                {
                                    "ID": "91",
                                    "Breed": "Suphalak",
                                    "Location of origin": "Thailand",
                                    "Type": "Natural",
                                    "Body type": "Moderate",
                                    "Coat type and length": "Short",
                                    "Coat pattern": "Solid reddish-brown"
                                },
                                {
                                    "ID": "92",
                                    "Breed": "Thai or Traditional, Classic, or Old-style Siamese; Wichien Maat",
                                    "Location of origin": "Developed in Europe;",
                                    "Type": "Natural",
                                    "Body type": "Moderate",
                                    "Coat type and length": "Short",
                                    "Coat pattern": "Colorpoint"
                                },
                                {
                                    "ID": "93",
                                    "Breed": "Thai Lilac, Thai Blue Point and Thai Lilac Point",
                                    "Location of origin": "Thailand",
                                    "Type": "Color varieties of the Korat",
                                    "Body type": "Moderate",
                                    "Coat type and length": "Short",
                                    "Coat pattern": "Solid lilac and colorpoint (blue point and lilac point only)"
                                },
                                {
                                    "ID": "94",
                                    "Breed": "Tonkinese",
                                    "Location of origin": "Canada, United States",
                                    "Type": "Crossbreed between the Burmese and Siamese",
                                    "Body type": "Oriental",
                                    "Coat type and length": "Short",
                                    "Coat pattern": "Colorpoint, mink, or solid"
                                },
                                {
                                    "ID": "95",
                                    "Breed": "Toybob",
                                    "Location of origin": "Russia",
                                    "Type": "Mutation",
                                    "Body type": "Dwarf",
                                    "Coat type and length": "Short",
                                    "Coat pattern": "All"
                                },
                                {
                                    "ID": "96",
                                    "Breed": "Toyger",
                                    "Location of origin": "United States",
                                    "Type": "Crossbreed/hybrid between the Bengal and short-haired cats",
                                    "Body type": "Moderate",
                                    "Coat type and length": "Short",
                                    "Coat pattern": "Mackerel tabby"
                                },
                                {
                                    "ID": "97",
                                    "Breed": "Turkish Angora",
                                    "Location of origin": "Turkey",
                                    "Type": "Natural",
                                    "Body type": "Semi-cobby",
                                    "Coat type and length": "Semi-long",
                                    "Coat pattern": "All"
                                },
                                {
                                    "ID": "98",
                                    "Breed": "Turkish Van",
                                    "Location of origin": "Developed in United Kingdom; foundation stock from Lake Van, Turkey",
                                    "Type": "Natural",
                                    "Body type": "Semi-cobby",
                                    "Coat type and length": "Semi-long",
                                    "Coat pattern": "Van pattern"
                                },
                                {
                                    "ID": "99",
                                    "Breed": "Turkish Vankedisi (white variety of Turkish Van)",
                                    "Location of origin": "Lake Van, Turkey",
                                    "Type": "Natural",
                                    "Body type": "Svelte",
                                    "Coat type and length": "Long",
                                    "Coat pattern": "Solid white"
                                },
                                {
                                    "ID": "100",
                                    "Breed": "Ukrainian Levkoy",
                                    "Location of origin": "Ukraine",
                                    "Type": "Crossbreed between the Donskoy and Scottish Fold",
                                    "Body type": "Moderate",
                                    "Coat type and length": "Hairless",
                                    "Coat pattern": "Solid gray"
                                },
                                {
                                    "ID": "101",
                                    "Breed": "York Chocolate",
                                    "Location of origin": "New York, United States",
                                    "Type": "Natural",
                                    "Body type": "Moderate",
                                    "Coat type and length": "Long",
                                    "Coat pattern": "Solid chocolate, solid lilac and solid taupe or any of these colors with white"
                                }
                            ]
                        },
                        "text/html": [
                            "<table>",
                            "<tr><th>ID</th><th>Breed</th><th>Location of origin</th><th>Type</th><th>Body type</th><th>Coat type and length</th><th>Coat pattern</th></tr>",
                            "<tr><td>1</td><td>Abyssinian</td><td>Unspecified, but somewhere in Afro-Asia, likely Ethiopia</td><td>Natural</td><td>Semi-foreign</td><td>Short</td><td>Ticked tabby</td></tr>",
                            "<tr><td>2</td><td>Aegean</td><td>Greece</td><td>Natural</td><td>Moderate</td><td>Semi-long</td><td>Multi-color</td></tr>",
                            "<tr><td>3</td><td>American Bobtail</td><td>United States</td><td>Mutation of shortened tail</td><td>Cobby</td><td>Semi-long</td><td>All</td></tr>",
                            "<tr><td>4</td><td>American Curl</td><td>United States</td><td>Mutation</td><td>Semi-foreign</td><td>Semi-long</td><td>All</td></tr>",
                            "<tr><td>5</td><td>American Ringtail</td><td>United States</td><td>Mutation</td><td>Foreign</td><td>Semi-long</td><td>All</td></tr>",
                            "<tr><td>6</td><td>American Shorthair</td><td>United States</td><td>Natural</td><td>Cobby</td><td>Short</td><td>All</td></tr>",
                            "<tr><td>7</td><td>American Wirehair</td><td>United States</td><td>Mutation</td><td>Normal</td><td>Rex</td><td>All</td></tr>",
                            "<tr><td>8</td><td>Aphrodite Giant</td><td>Cyprus</td><td>Natural</td><td>Lean and muscular</td><td>All</td><td>All</td></tr>",
                            "<tr><td>9</td><td>Arabian Mau</td><td>Arabian Peninsula</td><td>Natural</td><td>Moderate and muscular</td><td>Short</td><td>All</td></tr>",
                            "<tr><td>10</td><td>Asian</td><td>United Kingdom</td><td>Crossbreed between the Burmese and Chinchilla Persians</td><td>Moderate</td><td>Short</td><td>All without white and without siamese pointing</td></tr>",
                            "<tr><td>11</td><td>Asian Semi-longhair</td><td>United Kingdom</td><td>Crossbreed between the Burmese and Chinchilla Persians</td><td>Moderate</td><td>Semi-long</td><td>All without white and without siamese pointing</td></tr>",
                            "<tr><td>12</td><td>Australian Mist</td><td>Australia</td><td>Crossbreed between the Abyssinian, Burmese, and Australian short-haired cats[12]</td><td>Moderate</td><td>Short</td><td>Spotted or marbled</td></tr>",
                            "<tr><td>13</td><td>Balinese</td><td>Developed in United States; foundation stock from Thailand</td><td>Mutation of the Siamese</td><td>Semi-foreign</td><td>Long</td><td>Colorpoint</td></tr>",
                            "<tr><td>14</td><td>Bambino</td><td>United States</td><td>Crossbreed between the Munchkin and Sphynx[12]</td><td>Dwarf</td><td>Short</td><td>Black + white hairless</td></tr>",
                            "<tr><td>15</td><td>Bengal</td><td>Developed in United States, but created in Asia</td><td>Hybrid of the Abyssinian and Egyptian Mau × leopard cat (Prionailurus bengalensis)</td><td>Large</td><td>Short</td><td>Spotted, marbled, or rosetted</td></tr>",
                            "<tr><td>16</td><td>Birman</td><td>Developed in France; foundation stock from Burma (Myanmar)</td><td>The original Birman was crossed with the Siamese and the Persian to create the Birman of today.</td><td>Cobby</td><td>Semi-long</td><td>Mitted colorpoint</td></tr>",
                            "<tr><td>17</td><td>Bombay</td><td>United States and Burma (Myanmar)</td><td>Crossbreed between the Black American Shorthair and Sable Burmese</td><td>Cobby</td><td>Short</td><td>Solid black</td></tr>",
                            "<tr><td>18</td><td>Brazilian Shorthair</td><td>Brazil</td><td>Natural</td><td>Normal</td><td>Short</td><td>All</td></tr>",
                            "<tr><td>19</td><td>British Longhair</td><td>United Kingdom (England)</td><td>Natural</td><td>Cobby</td><td>Semi-long</td><td>All</td></tr>",
                            "<tr><td>20</td><td>British Shorthair</td><td>United Kingdom (England)</td><td>Natural</td><td>Cobby</td><td>Short</td><td>All[13]</td></tr>",
                            "<tr><td>21</td><td>Burmese</td><td>Burma (Myanmar)</td><td>Natural</td><td>Semi-foreign or semi-cobby</td><td>Short</td><td>Solid and Tortoiseshell[14]</td></tr>",
                            "<tr><td>22</td><td>Burmilla</td><td>United Kingdom (England)</td><td>Crossbreed between the Burmese and the Chinchilla Persian</td><td>Semi-cobby</td><td>Short</td><td>Solid with Shaded Silver and Silver Tipped patterns</td></tr>",
                            "<tr><td>23</td><td>California Spangled</td><td>United States</td><td>Crossbreed between the Abyssinian, American Shorthair and British Shorthair</td><td>Moderate</td><td>Short</td><td>Spotted tabby</td></tr>",
                            "<tr><td>24</td><td>Chantilly-Tiffany</td><td>United States</td><td>Natural</td><td>Cobby</td><td>Long</td><td>Solid, classic tabby, spotted tabby and ticked tabby</td></tr>",
                            "<tr><td>25</td><td>Chartreux</td><td>France</td><td>Natural</td><td>Muscular; cobby</td><td>Short</td><td>Varying shades of blue</td></tr>",
                            "<tr><td>26</td><td>Chausie</td><td>United States</td><td>Hybrid of the Abyssinian × jungle cat (Felis chaus)</td><td>Normal</td><td>Short</td><td>Solid black, black grizzled tabby and black ticked tabby</td></tr>",
                            "<tr><td>27</td><td>Colorpoint Shorthair</td><td>United Kingdom (England)</td><td>Crossbreed between the Abyssinian, Siamese and short-haired cats</td><td>Foreign</td><td>Short</td><td>Colorpoint</td></tr>",
                            "<tr><td>28</td><td>Cornish Rex</td><td>Cornwall, England, United Kingdom</td><td>Mutation</td><td>Foreign</td><td>Rex</td><td>All</td></tr>",
                            "<tr><td>29</td><td>Cymric, Manx Longhair or Long-haired Manx</td><td>Isle of Man, United States, and Canada</td><td>Mutation of the Manx (shortened tail)</td><td>Semi-cobby</td><td>Long</td><td>All</td></tr>",
                            "<tr><td>30</td><td>Cyprus</td><td>Cyprus</td><td>Natural</td><td>Lean and muscular</td><td>All</td><td>All</td></tr>",
                            "<tr><td>31</td><td>Devon Rex</td><td>Buckfastleigh, Devon, England, United Kingdom</td><td>Mutation</td><td>Semi-foreign</td><td>Rex</td><td>All</td></tr>",
                            "<tr><td>32</td><td>Donskoy or Don Sphynx</td><td>Russia</td><td>Mutation</td><td>Semi-foreign</td><td>Hairless</td><td>Solid</td></tr>",
                            "<tr><td>33</td><td>Dragon Li or Chinese Li Hua</td><td>China</td><td>Natural</td><td>Normal</td><td>Short</td><td>Ticked tabby</td></tr>",
                            "<tr><td>34</td><td>Dwelf</td><td>United States</td><td>Crossbreed between the American Curl, Munchkin and Sphynx</td><td>Dwarf</td><td>Hairless</td><td>All</td></tr>",
                            "<tr><td>35</td><td>Egyptian Mau</td><td>Egypt</td><td>Natural</td><td>Moderate and muscular</td><td>Short</td><td>Spotted tabby</td></tr>",
                            "<tr><td>36</td><td>European Shorthair</td><td>Continental Europe</td><td>Natural</td><td>Moderate</td><td>Short</td><td>All</td></tr>",
                            "<tr><td>37</td><td>Exotic Shorthair</td><td>United States</td><td>Crossbreed between the American Shorthair and Persian</td><td>Cobby</td><td>Short</td><td>All</td></tr>",
                            "<tr><td>38</td><td>Foldex</td><td>Canada</td><td>Crossbreed between the Exotic Shorthair and Scottish Fold</td><td>Cobby</td><td>Short</td><td>All</td></tr>",
                            "<tr><td>39</td><td>German Rex</td><td>Germany</td><td>Mutation</td><td>Semi-foreign</td><td>Rex</td><td>All</td></tr>",
                            "<tr><td>40</td><td>Havana Brown</td><td>United Kingdom (England); foundation stock from Thailand</td><td>Crossbreed between the Siamese and black short-haired cats</td><td>Semi-foreign</td><td>Short</td><td>Solid brown</td></tr>",
                            "<tr><td>41</td><td>Highlander</td><td>United States</td><td>Crossbreed between the Desert Lynx and Jungle Curl</td><td>Moderate</td><td>Short/long</td><td>All</td></tr>",
                            "<tr><td>42</td><td>Himalayan or Colorpoint Persian</td><td>United States and United Kingdom</td><td>Crossbreed between the Persian and Siamese</td><td>Cobby</td><td>Long</td><td>Colorpoint</td></tr>",
                            "<tr><td>43</td><td>Japanese Bobtail</td><td>Japan</td><td>Mutation of shortened tail</td><td>Moderate</td><td>Short/long</td><td>All</td></tr>",
                            "<tr><td>44</td><td>Javanese or Colorpoint Longhair</td><td>Developed in United States and Canada; foundation stock from Southeast Asia</td><td>Crossbreed between the Balinese (with some Colorpoint Shorthair), Oriental Longhair and Siamese</td><td>Oriental</td><td>Long</td><td>Colorpoint</td></tr>",
                            "<tr><td>45</td><td>Kanaani</td><td>Israel</td><td>Hybrid of short-haired cats × African wildcat (Felis lybica)</td><td>Semi-foreign</td><td>Short</td><td>Solid black, chocolate spotted tabby or cinnamon spotted tabby</td></tr>",
                            "<tr><td>46</td><td>Khao Manee</td><td>Thailand</td><td>Natural</td><td>Moderate</td><td>Short</td><td>Solid white</td></tr>",
                            "<tr><td>47</td><td>Kinkalow</td><td>United States</td><td>Crossbreed between the Munchkin and American Curl</td><td>Dwarf</td><td>Short</td><td>All</td></tr>",
                            "<tr><td>48</td><td>Korat</td><td>Thailand</td><td>Natural</td><td>Semi-foreign or semi-cobby and muscular</td><td>Short</td><td>Solid blue</td></tr>",
                            "<tr><td>49</td><td>Korean Bobtail</td><td>Korea</td><td>Natural, mutation of shortened tail</td><td>Moderate</td><td>Short/long</td><td>All</td></tr>",
                            "<tr><td>50</td><td>Korn Ja or Konja</td><td>Thailand</td><td>Natural</td><td>Small</td><td>Short</td><td>Solid black</td></tr>",
                            "<tr><td>51</td><td>Kurilian Bobtail or Kuril Islands Bobtail</td><td>Kuril Islands, North Pacific</td><td>Natural, mutation of shortened tail</td><td>Semi-cobby</td><td>Short/long[12]</td><td>All</td></tr>",
                            "<tr><td>52</td><td>Lambkin</td><td>United States</td><td>Crossbreed between the Munchkin and Selkirk Rex</td><td>Dwarf</td><td>Rex</td><td>All</td></tr>",
                            "<tr><td>53</td><td>LaPerm</td><td>United States</td><td>Mutation</td><td>Moderate</td><td>Rex</td><td>All</td></tr>",
                            "<tr><td>54</td><td>Lykoi</td><td>United States</td><td>Mutation</td><td>Moderate</td><td>Sparse haired</td><td>Black roan</td></tr>",
                            "<tr><td>55</td><td>Maine Coon</td><td>United States</td><td>Natural, crossbreed</td><td>Large</td><td>Semi-long/long</td><td>All excluding chocolate and colourpoint</td></tr>",
                            "<tr><td>56</td><td>Manx</td><td>Isle of Man</td><td>Mutation of shortened tail</td><td>Moderate</td><td>Short/long</td><td>All</td></tr>",
                            "<tr><td>57</td><td>Mekong Bobtail</td><td>Developed in Russia; foundation stock ultimately from Southeast Asia</td><td>Mutation of shortened tail</td><td>Moderate</td><td>Short</td><td>Colorpoint</td></tr>",
                            "<tr><td>58</td><td>Minskin</td><td>United States</td><td>Crossbreed between the Munchkin, Burmese, Devon Rex, and Sphynx</td><td>Dwarf</td><td>Hairless</td><td>All</td></tr>",
                            "<tr><td>59</td><td>Minuet</td><td>United States</td><td>Crossbreed between the Persian and Munchkin</td><td>Dwarf</td><td>Short/long</td><td>All</td></tr>",
                            "<tr><td>60</td><td>Munchkin</td><td>United States</td><td>Mutation of dwarf cat</td><td>Dwarf</td><td>Short/long</td><td>All</td></tr>",
                            "<tr><td>61</td><td>Nebelung</td><td>United States</td><td>Natural, mutation</td><td>Foreign</td><td>Semi-long</td><td>Solid blue</td></tr>",
                            "<tr><td>62</td><td>Neva Masquerade (colorpoint Siberian)</td><td>Russia</td><td>Crossbreed between the Siberian and a colorpoint cat[16]</td><td>Cobby[12]</td><td>Long[12]</td><td>Colorpoint</td></tr>",
                            "<tr><td>63</td><td>Norwegian Forest Cat</td><td>Norway</td><td>Natural</td><td>Cobby</td><td>Long</td><td>Chocolate or orange and white bicolor</td></tr>",
                            "<tr><td>64</td><td>Ocicat</td><td>United States</td><td>Crossbreed between the Abyssinian, American Shorthair and Siamese</td><td>Large</td><td>Short</td><td>Spotted tabby</td></tr>",
                            "<tr><td>65</td><td>Ojos Azules (extinct)</td><td>United States</td><td>Crossbreed</td><td>Moderate</td><td>Short</td><td>All</td></tr>",
                            "<tr><td>66</td><td>Oriental Bicolor</td><td>Developed in United States and United Kingdom, later in Continental Europe; foundation stock ultimately from Thailand</td><td>Color variety of the Oriental Shorthair</td><td>Oriental</td><td>Short</td><td>Bicolor</td></tr>",
                            "<tr><td>67</td><td>Oriental Longhair</td><td>Developed in United States and United Kingdom; foundation stock ultimately from Thailand</td><td>Crossbreed between the Oriental Shorthair and long-haired cats</td><td>Oriental</td><td>Semi-long</td><td>All; if colorpoint is considered to be a separate breed, it is called the Javanese</td></tr>",
                            "<tr><td>68</td><td>Oriental Shorthair</td><td>Developed in United States and United Kingdom; foundation stock ultimately from Thailand</td><td>Crossbreed between the European Shorthair and Siamese</td><td>Oriental</td><td>Short</td><td>All</td></tr>",
                            "<tr><td>69</td><td>Persian (modern)</td><td>Developed in United States and Europe; foundation stock from Greater Iran</td><td>Mutation of the Traditional Persian</td><td>Cobby</td><td>Long</td><td>All but colorpoint</td></tr>",
                            "<tr><td>70</td><td>Persian (traditional)</td><td>Greater Iran</td><td>Natural, but some crossbreeding with the Turkish Angora</td><td>Cobby</td><td>Long</td><td>All but colorpoint</td></tr>",
                            "<tr><td>71</td><td>Peterbald</td><td>Russia</td><td>Crossbreed between the Donskoy, Oriental Shorthair and Siamese; before this, it was between the Balinese and Javanese</td><td>Oriental</td><td>Hairless, velour, brush, or straight coat</td><td>All</td></tr>",
                            "<tr><td>72</td><td>Pixie-bob</td><td>United States</td><td>Mutation (falsely claimed to be a hybrid of the domestic cat and the bobcat (Lynx rufus) early on)</td><td>Medium</td><td>Short</td><td>Spotted tabby</td></tr>",
                            "<tr><td>73</td><td>Ragamuffin or Liebling (obsolete)</td><td>United States</td><td>Crossbreed between the Ragdoll with limited out-crossing to the Himalayan, the Persian, and other long-haired cats</td><td>Cobby</td><td>Long</td><td>All</td></tr>",
                            "<tr><td>74</td><td>Ragdoll</td><td>United States</td><td>Behavioral mutation in a crossbreed, presumed to be between the Persian or Turkish Angora and the Birman or Burmese</td><td>Cobby</td><td>Long</td><td>Colorpoint, mitted, or bicolor</td></tr>",
                            "<tr><td>75</td><td>Raas</td><td>Raas Island, Indonesia</td><td>Natural</td><td>Moderate</td><td>Short</td><td>Solid blue, solid cinnamon, or cinnamon colorpoint</td></tr>",
                            "<tr><td>76</td><td>Russian Blue</td><td>Russia</td><td>Natural</td><td>Moderate, Oriental</td><td>Short</td><td>Solid blue</td></tr>",
                            "<tr><td>77</td><td>Russian White, Russian Black and Russian Tabby</td><td>Developed in Australia; foundation stock from Russia</td><td>Crossbreeds between the Russian Blue and short-haired cats from Siberia, Russia</td><td>Moderate</td><td>Short</td><td>Solid white, solid black and tabby</td></tr>",
                            "<tr><td>78</td><td>Sam Sawet</td><td>Thailand</td><td>Color variety of the Thai</td><td>Moderate</td><td>Short</td><td>Solid</td></tr>",
                            "<tr><td>79</td><td>Savannah</td><td>United States</td><td>Hybrid of the domestic cat x serval (Leptailurus serval)[17]</td><td>Large</td><td>Short</td><td>Spotted</td></tr>",
                            "<tr><td>80</td><td>Scottish Fold</td><td>United Kingdom (Scotland)</td><td>Mutation of the bones and cartilage of the ears</td><td>Cobby</td><td>Short/long</td><td>All</td></tr>",
                            "<tr><td>81</td><td>Selkirk Rex</td><td>United States in 1988</td><td>Mutation/crossbreed between the American Shorthair, Persian, Himalayan, Exotic Shorthair and British Shorthair</td><td>Large and cobby</td><td>Short/long (longhair, sometimes in early generations, can appear to be semi-long)</td><td>All</td></tr>",
                            "<tr><td>82</td><td>Serengeti</td><td>United States</td><td>Crossbreed/hybrid between the Bengal and Oriental Shorthair</td><td>Oriental</td><td>Short</td><td>Spotted</td></tr>",
                            "<tr><td>83</td><td>Serrade Petit</td><td>France</td><td>Natural</td><td>Semi-cobby</td><td>Short</td><td>Solid tan, solid orange and solid white</td></tr>",
                            "<tr><td>84</td><td>Siamese (modern) (for traditional, see Thai below)</td><td>Developed in United States and Europe; foundation stock from Thailand</td><td>Mutation of the Thai</td><td>Oriental</td><td>Short</td><td>Colorpoint</td></tr>",
                            "<tr><td>85</td><td>Siberian or Siberian Forest Cat (for colorpoint, see Neva Masquerade)</td><td>Russia, Ukraine</td><td>Natural</td><td>Cobby[12]</td><td>Long[12]</td><td>All; except chocolate, lilac, cinnamon, and fawn[18]</td></tr>",
                            "<tr><td>86</td><td>Singapura</td><td>Developed in United States; foundation stock from Singapore</td><td>Possibly a mutation of a crossbreed (excluding the Munchkin), solving why they are so small</td><td>Small</td><td>Short</td><td>Ticked tabby</td></tr>",
                            "<tr><td>87</td><td>Snowshoe</td><td>United States</td><td>Crossbreed between the American Shorthair and Siamese</td><td>Moderate</td><td>Short</td><td>Mitted colorpoint</td></tr>",
                            "<tr><td>88</td><td>Sokoke</td><td>Kenya</td><td>Natural</td><td>Moderate</td><td>Short</td><td>Ticked tabby</td></tr>",
                            "<tr><td>89</td><td>Somali</td><td>United States, Canada</td><td>Mutation</td><td>Cobby</td><td>Long</td><td>Ticked tabby</td></tr>",
                            "<tr><td>90</td><td>Sphynx</td><td>Canada, Europe</td><td>Mutation</td><td>Oriental</td><td>Hairless</td><td>All</td></tr>",
                            "<tr><td>91</td><td>Suphalak</td><td>Thailand</td><td>Natural</td><td>Moderate</td><td>Short</td><td>Solid reddish-brown</td></tr>",
                            "<tr><td>92</td><td>Thai or Traditional, Classic, or Old-style Siamese; Wichien Maat</td><td>Developed in Europe;</td><td>Natural</td><td>Moderate</td><td>Short</td><td>Colorpoint</td></tr>",
                            "<tr><td>93</td><td>Thai Lilac, Thai Blue Point and Thai Lilac Point</td><td>Thailand</td><td>Color varieties of the Korat</td><td>Moderate</td><td>Short</td><td>Solid lilac and colorpoint (blue point and lilac point only)</td></tr>",
                            "<tr><td>94</td><td>Tonkinese</td><td>Canada, United States</td><td>Crossbreed between the Burmese and Siamese</td><td>Oriental</td><td>Short</td><td>Colorpoint, mink, or solid</td></tr>",
                            "<tr><td>95</td><td>Toybob</td><td>Russia</td><td>Mutation</td><td>Dwarf</td><td>Short</td><td>All</td></tr>",
                            "<tr><td>96</td><td>Toyger</td><td>United States</td><td>Crossbreed/hybrid between the Bengal and short-haired cats</td><td>Moderate</td><td>Short</td><td>Mackerel tabby</td></tr>",
                            "<tr><td>97</td><td>Turkish Angora</td><td>Turkey</td><td>Natural</td><td>Semi-cobby</td><td>Semi-long</td><td>All</td></tr>",
                            "<tr><td>98</td><td>Turkish Van</td><td>Developed in United Kingdom; foundation stock from Lake Van, Turkey</td><td>Natural</td><td>Semi-cobby</td><td>Semi-long</td><td>Van pattern</td></tr>",
                            "<tr><td>99</td><td>Turkish Vankedisi (white variety of Turkish Van)</td><td>Lake Van, Turkey</td><td>Natural</td><td>Svelte</td><td>Long</td><td>Solid white</td></tr>",
                            "<tr><td>100</td><td>Ukrainian Levkoy</td><td>Ukraine</td><td>Crossbreed between the Donskoy and Scottish Fold</td><td>Moderate</td><td>Hairless</td><td>Solid gray</td></tr>",
                            "<tr><td>101</td><td>York Chocolate</td><td>New York, United States</td><td>Natural</td><td>Moderate</td><td>Long</td><td>Solid chocolate, solid lilac and solid taupe or any of these colors with white</td></tr>",
                            "</table>"
                        ]
                    }
                }
            ],
            "execution_count": 6
        }
    ]
}