{
    "metadata": {
        "kernelspec": {
            "name": "python3",
            "display_name": "Python 3",
            "language": "python"
        },
        "language_info": {
            "name": "python",
            "version": "3.11.5",
            "mimetype": "text/x-python",
            "codemirror_mode": {
                "name": "ipython",
                "version": 3
            },
            "pygments_lexer": "ipython3",
            "nbconvert_exporter": "python",
            "file_extension": ".py"
        }
    },
    "nbformat_minor": 2,
    "nbformat": 4,
    "cells": [
        {
            "cell_type": "markdown",
            "source": [
                "##  **Import libraries**"
            ],
            "metadata": {
                "language": "python",
                "azdata_cell_guid": "91d8544a-8e9b-4018-827d-a7d4ae4619c1"
            },
            "attachments": {}
        },
        {
            "cell_type": "code",
            "source": [
                "import pandas as pd\r\n",
                "import pyodbc as odbc"
            ],
            "metadata": {
                "azdata_cell_guid": "1679416a-fe1d-43ac-aa5d-00fc800fa9a3",
                "language": "python",
                "tags": [
                    "hide_input"
                ]
            },
            "outputs": [],
            "execution_count": 52
        },
        {
            "cell_type": "markdown",
            "source": [
                "## **Extract table data**"
            ],
            "metadata": {
                "language": "python",
                "azdata_cell_guid": "886df596-86b5-4f87-bea7-ba238b4c509c"
            },
            "attachments": {}
        },
        {
            "cell_type": "code",
            "source": [
                "cat_data = pd.read_html('https://en.wikipedia.org/wiki/List_of_cat_breeds')"
            ],
            "metadata": {
                "azdata_cell_guid": "2e410b1c-200b-4673-84fd-6f24aab6ed3c",
                "language": "python"
            },
            "outputs": [],
            "execution_count": 53
        },
        {
            "cell_type": "code",
            "source": [
                "cat_df = cat_data[1]"
            ],
            "metadata": {
                "azdata_cell_guid": "ddf822c1-ea18-4428-9c9b-05fe18d071ea",
                "language": "python"
            },
            "outputs": [],
            "execution_count": 54
        },
        {
            "cell_type": "code",
            "source": [
                "cat_df.info()"
            ],
            "metadata": {
                "azdata_cell_guid": "846bb99c-6c6c-4cc1-944d-f03a2cd7cda4",
                "language": "python"
            },
            "outputs": [
                {
                    "name": "stdout",
                    "text": "<class 'pandas.core.frame.DataFrame'>\nRangeIndex: 102 entries, 0 to 101\nData columns (total 7 columns):\n #   Column                Non-Null Count  Dtype  \n---  ------                --------------  -----  \n 0   Breed                 102 non-null    object \n 1   Location of origin    102 non-null    object \n 2   Type                  102 non-null    object \n 3   Body type             101 non-null    object \n 4   Coat type and length  102 non-null    object \n 5   Coat pattern          101 non-null    object \n 6   Image                 0 non-null      float64\ndtypes: float64(1), object(6)\nmemory usage: 5.7+ KB\n",
                    "output_type": "stream"
                }
            ],
            "execution_count": 55
        },
        {
            "cell_type": "markdown",
            "source": [
                "## **Data cleanup**"
            ],
            "metadata": {
                "language": "python",
                "azdata_cell_guid": "7f277254-1f53-4d0b-8ac5-e18792b18e1e"
            },
            "attachments": {}
        },
        {
            "cell_type": "code",
            "source": [
                "# Drop the image column\r\n",
                "cat_df.drop(['Image'], axis=1, inplace=True)\r\n",
                "\r\n",
                "# Remove any brackets and numbers from the 'Breed' column\r\n",
                "cat_df['Breed'] = cat_df['Breed'].str.replace(r'\\[.*\\]', '', regex=True).str.strip()\r\n",
                "\r\n",
                "# Remove any unwanted characters from 'Location of origin'\r\n",
                "cat_df['Location of origin'] = cat_df['Location of origin'].str.replace('\\[.*\\]', '', regex=True).str.strip()\r\n",
                "\r\n",
                "# Drop rows with missing values (empty strings in this case)\r\n",
                "cat_df = cat_df.replace('', pd.NA).dropna()\r\n",
                "\r\n",
                "# Reset the index after dropping rows\r\n",
                "cat_df = cat_df.reset_index(drop=True)\r\n",
                ""
            ],
            "metadata": {
                "azdata_cell_guid": "b60c6342-9210-466f-a17b-bc5416f8188b",
                "language": "python"
            },
            "outputs": [],
            "execution_count": 56
        },
        {
            "cell_type": "markdown",
            "source": [
                "## **Show data**"
            ],
            "metadata": {
                "language": "python",
                "azdata_cell_guid": "d52f51b1-3828-42d4-99f3-db2dcf5a53f8"
            },
            "attachments": {}
        },
        {
            "cell_type": "code",
            "source": [
                "cat_df"
            ],
            "metadata": {
                "azdata_cell_guid": "54a17d2c-4f9f-44e0-bf87-bad4c9b519e7",
                "language": "python"
            },
            "outputs": [
                {
                    "data": {
                        "text/plain": "                                                Breed  \\\n0                                          Abyssinian   \n1                                              Aegean   \n2                                    American Bobtail   \n3                                       American Curl   \n4                                   American Ringtail   \n..                                                ...   \n96                                     Turkish Angora   \n97                                        Turkish Van   \n98   Turkish Vankedisi (white variety of Turkish Van)   \n99                                   Ukrainian Levkoy   \n100                                    York Chocolate   \n\n                                    Location of origin  \\\n0    Unspecified, but somewhere in Afro-Asia, likel...   \n1                                               Greece   \n2                                        United States   \n3                                        United States   \n4                                        United States   \n..                                                 ...   \n96                                              Turkey   \n97   Developed in United Kingdom; foundation stock ...   \n98                                    Lake Van, Turkey   \n99                                             Ukraine   \n100                            New York, United States   \n\n                                                 Type     Body type  \\\n0                                             Natural  Semi-foreign   \n1                                             Natural      Moderate   \n2                          Mutation of shortened tail         Cobby   \n3                                            Mutation  Semi-foreign   \n4                                            Mutation       Foreign   \n..                                                ...           ...   \n96                                            Natural    Semi-cobby   \n97                                            Natural    Semi-cobby   \n98                                            Natural        Svelte   \n99   Crossbreed between the Donskoy and Scottish Fold      Moderate   \n100                                           Natural      Moderate   \n\n    Coat type and length                                       Coat pattern  \n0                  Short                                       Ticked tabby  \n1              Semi-long                                        Multi-color  \n2              Semi-long                                                All  \n3              Semi-long                                                All  \n4              Semi-long                                                All  \n..                   ...                                                ...  \n96             Semi-long                                                All  \n97             Semi-long                                        Van pattern  \n98                  Long                                        Solid white  \n99              Hairless                                         Solid gray  \n100                 Long  Solid chocolate, solid lilac and solid taupe o...  \n\n[101 rows x 6 columns]",
                        "text/html": "<div>\n<style scoped>\n    .dataframe tbody tr th:only-of-type {\n        vertical-align: middle;\n    }\n\n    .dataframe tbody tr th {\n        vertical-align: top;\n    }\n\n    .dataframe thead th {\n        text-align: right;\n    }\n</style>\n<table border=\"1\" class=\"dataframe\">\n  <thead>\n    <tr style=\"text-align: right;\">\n      <th></th>\n      <th>Breed</th>\n      <th>Location of origin</th>\n      <th>Type</th>\n      <th>Body type</th>\n      <th>Coat type and length</th>\n      <th>Coat pattern</th>\n    </tr>\n  </thead>\n  <tbody>\n    <tr>\n      <th>0</th>\n      <td>Abyssinian</td>\n      <td>Unspecified, but somewhere in Afro-Asia, likel...</td>\n      <td>Natural</td>\n      <td>Semi-foreign</td>\n      <td>Short</td>\n      <td>Ticked tabby</td>\n    </tr>\n    <tr>\n      <th>1</th>\n      <td>Aegean</td>\n      <td>Greece</td>\n      <td>Natural</td>\n      <td>Moderate</td>\n      <td>Semi-long</td>\n      <td>Multi-color</td>\n    </tr>\n    <tr>\n      <th>2</th>\n      <td>American Bobtail</td>\n      <td>United States</td>\n      <td>Mutation of shortened tail</td>\n      <td>Cobby</td>\n      <td>Semi-long</td>\n      <td>All</td>\n    </tr>\n    <tr>\n      <th>3</th>\n      <td>American Curl</td>\n      <td>United States</td>\n      <td>Mutation</td>\n      <td>Semi-foreign</td>\n      <td>Semi-long</td>\n      <td>All</td>\n    </tr>\n    <tr>\n      <th>4</th>\n      <td>American Ringtail</td>\n      <td>United States</td>\n      <td>Mutation</td>\n      <td>Foreign</td>\n      <td>Semi-long</td>\n      <td>All</td>\n    </tr>\n    <tr>\n      <th>...</th>\n      <td>...</td>\n      <td>...</td>\n      <td>...</td>\n      <td>...</td>\n      <td>...</td>\n      <td>...</td>\n    </tr>\n    <tr>\n      <th>96</th>\n      <td>Turkish Angora</td>\n      <td>Turkey</td>\n      <td>Natural</td>\n      <td>Semi-cobby</td>\n      <td>Semi-long</td>\n      <td>All</td>\n    </tr>\n    <tr>\n      <th>97</th>\n      <td>Turkish Van</td>\n      <td>Developed in United Kingdom; foundation stock ...</td>\n      <td>Natural</td>\n      <td>Semi-cobby</td>\n      <td>Semi-long</td>\n      <td>Van pattern</td>\n    </tr>\n    <tr>\n      <th>98</th>\n      <td>Turkish Vankedisi (white variety of Turkish Van)</td>\n      <td>Lake Van, Turkey</td>\n      <td>Natural</td>\n      <td>Svelte</td>\n      <td>Long</td>\n      <td>Solid white</td>\n    </tr>\n    <tr>\n      <th>99</th>\n      <td>Ukrainian Levkoy</td>\n      <td>Ukraine</td>\n      <td>Crossbreed between the Donskoy and Scottish Fold</td>\n      <td>Moderate</td>\n      <td>Hairless</td>\n      <td>Solid gray</td>\n    </tr>\n    <tr>\n      <th>100</th>\n      <td>York Chocolate</td>\n      <td>New York, United States</td>\n      <td>Natural</td>\n      <td>Moderate</td>\n      <td>Long</td>\n      <td>Solid chocolate, solid lilac and solid taupe o...</td>\n    </tr>\n  </tbody>\n</table>\n<p>101 rows × 6 columns</p>\n</div>"
                    },
                    "metadata": {},
                    "execution_count": 57,
                    "output_type": "execute_result"
                }
            ],
            "execution_count": 57
        },
        {
            "cell_type": "markdown",
            "source": [
                "## **Save data to SQL table**"
            ],
            "metadata": {
                "language": "python",
                "azdata_cell_guid": "3a87ef57-c149-483a-9006-04d58adc78f1"
            },
            "attachments": {}
        },
        {
            "cell_type": "code",
            "source": [
                "dsn = 'catDB'\r\n",
                "\r\n",
                "# Create a connection string using the DSN\r\n",
                "connection_string = f\"\"\"\r\n",
                "    DSN={dsn};\r\n",
                "    Trusted_Connection=yes;\r\n",
                "\"\"\"\r\n",
                "\r\n",
                "# Create a connection\r\n",
                "conn = odbc.connect(connection_string)\r\n",
                "\r\n",
                "# Create a cursor\r\n",
                "cursor = conn.cursor()\r\n",
                "\r\n",
                "# Insert Data into SQL table\r\n",
                "insert_query = '''\r\n",
                "    INSERT INTO CatBreeds (Breed, [Location of origin], Type, [Body type], [Coat type and length], [Coat pattern])\r\n",
                "    VALUES (?, ?, ?, ?, ?, ?)\r\n",
                "'''\r\n",
                "\r\n",
                "# Assuming you have a DataFrame named 'cat_df' with the specified columns\r\n",
                "for index, row in cat_df.iterrows():\r\n",
                "    cursor.execute(insert_query, (row['Breed'], row['Location of origin'], row['Type'], row['Body type'], row['Coat type and length'], row['Coat pattern']))\r\n",
                "\r\n",
                "# Commit the changes\r\n",
                "conn.commit()\r\n",
                "\r\n",
                "# Close the cursor and connection\r\n",
                "cursor.close()\r\n",
                "conn.close()\r\n",
                "\r\n",
                "print(f\"Data saved to SQL Database\")"
            ],
            "metadata": {
                "azdata_cell_guid": "44fa6c55-3cda-45f0-93e8-7d357cbe5a2b",
                "language": "python"
            },
            "outputs": [
                {
                    "name": "stdout",
                    "text": "Data saved to SQL Database\n",
                    "output_type": "stream"
                }
            ],
            "execution_count": 58
        }
    ]
}